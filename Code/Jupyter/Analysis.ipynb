{
 "cells": [
  {
   "cell_type": "code",
   "execution_count": 5,
   "metadata": {
    "ExecuteTime": {
     "end_time": "2019-09-24T15:42:10.681833Z",
     "start_time": "2019-09-24T15:42:06.041087Z"
    }
   },
   "outputs": [],
   "source": [
    "import pandas as pd\n",
    "import numpy as np"
   ]
  },
  {
   "cell_type": "markdown",
   "metadata": {},
   "source": [
    "# Load data"
   ]
  },
  {
   "cell_type": "code",
   "execution_count": 6,
   "metadata": {
    "ExecuteTime": {
     "end_time": "2019-09-24T15:42:29.126601Z",
     "start_time": "2019-09-24T15:42:28.504711Z"
    }
   },
   "outputs": [],
   "source": [
    "train_df = pd.read_csv(r'../../Data/Train_Data.csv')\n",
    "test_df = pd.read_csv(r'../../Data/Test_Data.csv')\n",
    "submit_sample_df = pd.read_csv(r'../../Data/Submit_Example_Data.csv')"
   ]
  },
  {
   "cell_type": "markdown",
   "metadata": {},
   "source": [
    "# Preprocessing"
   ]
  },
  {
   "cell_type": "code",
   "execution_count": 8,
   "metadata": {
    "ExecuteTime": {
     "end_time": "2019-09-24T15:43:03.018687Z",
     "start_time": "2019-09-24T15:43:03.009733Z"
    }
   },
   "outputs": [
    {
     "data": {
      "text/html": [
       "<div>\n",
       "<style scoped>\n",
       "    .dataframe tbody tr th:only-of-type {\n",
       "        vertical-align: middle;\n",
       "    }\n",
       "\n",
       "    .dataframe tbody tr th {\n",
       "        vertical-align: top;\n",
       "    }\n",
       "\n",
       "    .dataframe thead th {\n",
       "        text-align: right;\n",
       "    }\n",
       "</style>\n",
       "<table border=\"1\" class=\"dataframe\">\n",
       "  <thead>\n",
       "    <tr style=\"text-align: right;\">\n",
       "      <th></th>\n",
       "      <th>id</th>\n",
       "      <th>title</th>\n",
       "      <th>text</th>\n",
       "      <th>unknownEntities</th>\n",
       "    </tr>\n",
       "  </thead>\n",
       "  <tbody>\n",
       "    <tr>\n",
       "      <th>0</th>\n",
       "      <td>83dcefb7</td>\n",
       "      <td>揭秘趣步骗局，趣步是什么，趣步是怎么赚钱的？趣步公司可靠吗？趣步合法吗？相信是众多小伙伴最关...</td>\n",
       "      <td>揭秘趣步骗局，趣步是什么，趣步是怎么赚钱的？趣步公司可靠吗？趣步合法吗？相信是众多小伙伴最关...</td>\n",
       "      <td>趣步</td>\n",
       "    </tr>\n",
       "    <tr>\n",
       "      <th>1</th>\n",
       "      <td>1ad5be0d</td>\n",
       "      <td>企业纳税贷额度，全国小微企业都可做！</td>\n",
       "      <td>{IMG:1}{IMG:2}公司张总说：“没想到缴税还能办贷款，本来我们还在为准备纳税证明、...</td>\n",
       "      <td>西部助贷</td>\n",
       "    </tr>\n",
       "    <tr>\n",
       "      <th>2</th>\n",
       "      <td>6dd28e9b</td>\n",
       "      <td>一线|新控股股东入主后联讯证券拟改名为知识城证券</td>\n",
       "      <td>腾讯新闻《》作者刘鹏成功接下47.24%股权入主具有30年历史的联讯证券后，广州开发区金融控...</td>\n",
       "      <td>广州开发区金融控股集团有限公司</td>\n",
       "    </tr>\n",
       "    <tr>\n",
       "      <th>3</th>\n",
       "      <td>f3b61b38</td>\n",
       "      <td>度小满金融：年中黄金情绪指数拉升最快</td>\n",
       "      <td>{IMG:1}近日，度小满金融在首次发布的《2019年上半年国民投资理财情绪指数报告》中提到...</td>\n",
       "      <td>科创板基金;度小满金融</td>\n",
       "    </tr>\n",
       "    <tr>\n",
       "      <th>4</th>\n",
       "      <td>84b12bae</td>\n",
       "      <td>区块链技术创造新价值！纷享车链赋能传统智能车载硬件设备</td>\n",
       "      <td>区块链技术创造新价值！纷享车链赋能传统智能车载硬件设备时间：2018年10月22日信息来源：...</td>\n",
       "      <td>七巧智盒3in1</td>\n",
       "    </tr>\n",
       "    <tr>\n",
       "      <th>5</th>\n",
       "      <td>1db87a14</td>\n",
       "      <td>一年不到，40多万的收入，有谁不想做？关键是长久，稳定，持续收入。瑞联盟，全国支付第二交易额...</td>\n",
       "      <td>一年不到，40多万的收入，有谁不想做？关键是长久，稳定，持续收入。瑞联盟，全国支付第二交易额...</td>\n",
       "      <td>瑞联盟</td>\n",
       "    </tr>\n",
       "    <tr>\n",
       "      <th>6</th>\n",
       "      <td>6abf4a82</td>\n",
       "      <td>NaN</td>\n",
       "      <td>鼎汇国际外汇《[發][發][發][發][發][發]》新加坡鼎汇外汇公司专业技术团队[强][强...</td>\n",
       "      <td>鼎汇国际</td>\n",
       "    </tr>\n",
       "    <tr>\n",
       "      <th>7</th>\n",
       "      <td>fa005713</td>\n",
       "      <td>龙网全球化进程——2018区块链无国界峰会</td>\n",
       "      <td>&amp;nbsp;DragonEx于5月13日参加了在美国纽约曼哈顿马奎斯万豪酒店主办的2018年...</td>\n",
       "      <td>龙币;龙网</td>\n",
       "    </tr>\n",
       "    <tr>\n",
       "      <th>8</th>\n",
       "      <td>8d076785</td>\n",
       "      <td>#云联惠用户的心声##云联惠用户的心声#说句实在话云联惠平台其实和淘宝、京东、王府井百货等平...</td>\n",
       "      <td>#云联惠用户的心声##云联惠用户的心声#说句实在话云联惠平台其实和淘宝、京东、王府井百货等平...</td>\n",
       "      <td>云联惠;王府井百货</td>\n",
       "    </tr>\n",
       "    <tr>\n",
       "      <th>9</th>\n",
       "      <td>a15d25e1</td>\n",
       "      <td>金斧子七周年特别策划|奋斗者故事：谁说只有伟大才值得被歌颂</td>\n",
       "      <td>{IMG:1}仿佛还能看见你当初青涩的脸庞仿佛还能听见你第一次害羞的发问仿佛旧日时光只是一瞬...</td>\n",
       "      <td>华西股份;金斧子</td>\n",
       "    </tr>\n",
       "  </tbody>\n",
       "</table>\n",
       "</div>"
      ],
      "text/plain": [
       "         id                                              title  \\\n",
       "0  83dcefb7  揭秘趣步骗局，趣步是什么，趣步是怎么赚钱的？趣步公司可靠吗？趣步合法吗？相信是众多小伙伴最关...   \n",
       "1  1ad5be0d                                 企业纳税贷额度，全国小微企业都可做！   \n",
       "2  6dd28e9b                           一线|新控股股东入主后联讯证券拟改名为知识城证券   \n",
       "3  f3b61b38                                 度小满金融：年中黄金情绪指数拉升最快   \n",
       "4  84b12bae                        区块链技术创造新价值！纷享车链赋能传统智能车载硬件设备   \n",
       "5  1db87a14  一年不到，40多万的收入，有谁不想做？关键是长久，稳定，持续收入。瑞联盟，全国支付第二交易额...   \n",
       "6  6abf4a82                                                NaN   \n",
       "7  fa005713                              龙网全球化进程——2018区块链无国界峰会   \n",
       "8  8d076785  #云联惠用户的心声##云联惠用户的心声#说句实在话云联惠平台其实和淘宝、京东、王府井百货等平...   \n",
       "9  a15d25e1                      金斧子七周年特别策划|奋斗者故事：谁说只有伟大才值得被歌颂   \n",
       "\n",
       "                                                text  unknownEntities  \n",
       "0  揭秘趣步骗局，趣步是什么，趣步是怎么赚钱的？趣步公司可靠吗？趣步合法吗？相信是众多小伙伴最关...               趣步  \n",
       "1  {IMG:1}{IMG:2}公司张总说：“没想到缴税还能办贷款，本来我们还在为准备纳税证明、...             西部助贷  \n",
       "2  腾讯新闻《》作者刘鹏成功接下47.24%股权入主具有30年历史的联讯证券后，广州开发区金融控...  广州开发区金融控股集团有限公司  \n",
       "3  {IMG:1}近日，度小满金融在首次发布的《2019年上半年国民投资理财情绪指数报告》中提到...      科创板基金;度小满金融  \n",
       "4  区块链技术创造新价值！纷享车链赋能传统智能车载硬件设备时间：2018年10月22日信息来源：...         七巧智盒3in1  \n",
       "5  一年不到，40多万的收入，有谁不想做？关键是长久，稳定，持续收入。瑞联盟，全国支付第二交易额...              瑞联盟  \n",
       "6  鼎汇国际外汇《[發][發][發][發][發][發]》新加坡鼎汇外汇公司专业技术团队[强][强...             鼎汇国际  \n",
       "7  &nbsp;DragonEx于5月13日参加了在美国纽约曼哈顿马奎斯万豪酒店主办的2018年...            龙币;龙网  \n",
       "8  #云联惠用户的心声##云联惠用户的心声#说句实在话云联惠平台其实和淘宝、京东、王府井百货等平...        云联惠;王府井百货  \n",
       "9  {IMG:1}仿佛还能看见你当初青涩的脸庞仿佛还能听见你第一次害羞的发问仿佛旧日时光只是一瞬...         华西股份;金斧子  "
      ]
     },
     "execution_count": 8,
     "metadata": {},
     "output_type": "execute_result"
    }
   ],
   "source": [
    "train_df.head(10)"
   ]
  },
  {
   "cell_type": "code",
   "execution_count": null,
   "metadata": {},
   "outputs": [],
   "source": []
  }
 ],
 "metadata": {
  "kernelspec": {
   "display_name": "Python 3",
   "language": "python",
   "name": "python3"
  },
  "language_info": {
   "codemirror_mode": {
    "name": "ipython",
    "version": 3
   },
   "file_extension": ".py",
   "mimetype": "text/x-python",
   "name": "python",
   "nbconvert_exporter": "python",
   "pygments_lexer": "ipython3",
   "version": "3.7.3"
  },
  "toc": {
   "base_numbering": 1,
   "nav_menu": {},
   "number_sections": true,
   "sideBar": true,
   "skip_h1_title": false,
   "title_cell": "Table of Contents",
   "title_sidebar": "Contents",
   "toc_cell": false,
   "toc_position": {},
   "toc_section_display": true,
   "toc_window_display": true
  }
 },
 "nbformat": 4,
 "nbformat_minor": 2
}
